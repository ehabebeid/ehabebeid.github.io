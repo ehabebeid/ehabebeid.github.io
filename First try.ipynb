{
 "cells": [
  {
   "cell_type": "markdown",
   "metadata": {},
   "source": [
    "# Predicting inter-station rapid transit travel times"
   ]
  },
  {
   "cell_type": "code",
   "execution_count": 6,
   "metadata": {},
   "outputs": [],
   "source": [
    "import time\n",
    "import datetime\n",
    "\n",
    "import numpy as np\n",
    "import pandas as pd\n",
    "import tensorflow as tf\n",
    "import unicodedata\n",
    "import re\n",
    "import os\n",
    "import io\n",
    "\n",
    "import keras\n",
    "from keras.models import Sequential\n",
    "from keras.layers import *\n",
    "from keras.layers.wrappers import *\n",
    "from keras.callbacks import CSVLogger, EarlyStopping\n",
    "from keras.layers.convolutional_recurrent import ConvLSTM2D\n",
    "from keras.layers.normalization import BatchNormalization\n",
    "import keras.backend.tensorflow_backend as ktf\n",
    "\n",
    "import matplotlib.pyplot as plt\n",
    "import matplotlib.ticker as ticker\n",
    "from sklearn.model_selection import train_test_split\n",
    "\n",
    "%matplotlib inline\n",
    "\n",
    "\n",
    "\n",
    "\n",
    "print('numpy ver.: ' + np.__version__)\n",
    "print('pandas ver.: ' + pd.__version__)\n",
    "print('tensorflow ver.: ' + tf.__version__) \n",
    "print('keras ver.: ' + keras.__version__)"
   ]
  },
  {
   "cell_type": "markdown",
   "metadata": {},
   "source": [
    "We propose to work using state-of-the-art papers to predict the arrival time of a subway car for the following N timesteps. We use the proposed architecture in Petersen et al. (2019) that uses convolutional LSTMs as the basis of the network architecture. In this paper, the authors are trying to predict bus arrival times. To support the use of this kind of network, they compare results with other architecture showing the superiority of their solution. In our work, we will compare LSTM with ConvLSTM architecture. There are some differences between predicting buses and subways, such as traffic congestion. However, we think that the model proposed in the paper could still work as a basis for predicting subway cars’ arrival time.\n",
    " \n",
    "The next steps in our work will be to define some key parameters. We will empirically do this, keeping only the parameters that give the best results. We have to define layers, also if we need encoder/decoder and its sizes, filters size, and if normalization is needed for each layer or only in the initial layer. Also, the dimensions of the kernel could make a difference.\n",
    "\n",
    "The main drawback of this architecture is that it does not contemplate any other information, such as the difference between weekdays and weekend days, special events that could affect the service, among others. To strengthen our model, we could use the changes proposed in  Agafonov and Yumaganov (2019)."
   ]
  },
  {
   "cell_type": "markdown",
   "metadata": {},
   "source": [
    "## Load Data"
   ]
  },
  {
   "cell_type": "markdown",
   "metadata": {},
   "source": [
    "Unfortunately the data as we would like it is not available from MBTA for subway, since they do not store stop events; they only store track circuit events and it is difficult to directly get travel times between stations from that.\n",
    "\n",
    "Bus stop events are readily available, however, so to start we are testing our methods with a 1 million row sample data from the MBTA number 1 bus in the outbound direction."
   ]
  },
  {
   "cell_type": "markdown",
   "metadata": {},
   "source": [
    "This is just for demonstration purposes. We will try to obtain the rail data."
   ]
  },
  {
   "cell_type": "code",
   "execution_count": 10,
   "metadata": {},
   "outputs": [],
   "source": [
    "import psycopg2\n",
    "import ssl\n",
    "import pandas.io.sql as sqlio"
   ]
  },
  {
   "cell_type": "code",
   "execution_count": 11,
   "metadata": {},
   "outputs": [],
   "source": [
    "def run_sql(query):\n",
    "    conn = psycopg2.connect(\n",
    "        host = 'mbta01.mghpcc.org',\n",
    "        port = 5432,\n",
    "        user = 'ehab',\n",
    "        password = '',\n",
    "        sslmode = 'verify-full',\n",
    "        sslrootcert = '../postgresql/root-ca.crt',\n",
    "        sslcert = '../postgresql/ehab.crt',\n",
    "        sslkey = '../postgresql/ehab.key',\n",
    "        database = 'mbta_dw')\n",
    "\n",
    "    return sqlio.read_sql_query(query, conn)"
   ]
  },
  {
   "cell_type": "code",
   "execution_count": 12,
   "metadata": {},
   "outputs": [],
   "source": [
    "def get_data(query, csv_file):\n",
    "    try:\n",
    "        return pd.read_csv(csv_file)\n",
    "    except FileNotFoundError:\n",
    "        df = run_sql(query)\n",
    "        df.to_csv(\"csv_file\")\n",
    "        return df"
   ]
  },
  {
   "cell_type": "code",
   "execution_count": 13,
   "metadata": {},
   "outputs": [],
   "source": [
    "query = \"\"\"SELECT se.trippieceid, \n",
    "    se.seq, \n",
    "    se.stopid,\n",
    "    se.arrival,\n",
    "    se.departure,\n",
    "    r.routeid,\n",
    "    r.routename,\n",
    "    tp.directionid\n",
    "FROM avl.stopevent se\n",
    "\n",
    "join avl.trippiece tp\n",
    "  on se.trippieceid = tp.trippieceid\n",
    "join avl.route r\n",
    "  on r.routeid = tp.routeid\n",
    "\n",
    "where routename = '01'\n",
    "  and tp.directionid = 4 -- outbound\n",
    "  --and arrival > '2018-01-01'\n",
    "\n",
    "ORDER BY se.trippieceid ASC, seq ASC\n",
    "limit 1000000\n",
    ";\n",
    "\"\"\""
   ]
  },
  {
   "cell_type": "code",
   "execution_count": 54,
   "metadata": {},
   "outputs": [],
   "source": [
    "stop_events = get_data(query, \"stop_events.csv\")"
   ]
  },
  {
   "cell_type": "code",
   "execution_count": 55,
   "metadata": {
    "scrolled": true
   },
   "outputs": [
    {
     "data": {
      "text/html": [
       "<div>\n",
       "<style scoped>\n",
       "    .dataframe tbody tr th:only-of-type {\n",
       "        vertical-align: middle;\n",
       "    }\n",
       "\n",
       "    .dataframe tbody tr th {\n",
       "        vertical-align: top;\n",
       "    }\n",
       "\n",
       "    .dataframe thead th {\n",
       "        text-align: right;\n",
       "    }\n",
       "</style>\n",
       "<table border=\"1\" class=\"dataframe\">\n",
       "  <thead>\n",
       "    <tr style=\"text-align: right;\">\n",
       "      <th></th>\n",
       "      <th>trippieceid</th>\n",
       "      <th>seq</th>\n",
       "      <th>stopid</th>\n",
       "      <th>arrival</th>\n",
       "      <th>departure</th>\n",
       "      <th>routeid</th>\n",
       "      <th>routename</th>\n",
       "      <th>directionid</th>\n",
       "    </tr>\n",
       "  </thead>\n",
       "  <tbody>\n",
       "    <tr>\n",
       "      <th>0</th>\n",
       "      <td>25950072</td>\n",
       "      <td>1</td>\n",
       "      <td>64</td>\n",
       "      <td>2015-09-30 09:46:58</td>\n",
       "      <td>2015-09-30 09:46:58</td>\n",
       "      <td>15632</td>\n",
       "      <td>1</td>\n",
       "      <td>4</td>\n",
       "    </tr>\n",
       "    <tr>\n",
       "      <th>1</th>\n",
       "      <td>25950077</td>\n",
       "      <td>1</td>\n",
       "      <td>64</td>\n",
       "      <td>2015-09-30 06:45:15</td>\n",
       "      <td>2015-09-30 06:45:46</td>\n",
       "      <td>15632</td>\n",
       "      <td>1</td>\n",
       "      <td>4</td>\n",
       "    </tr>\n",
       "    <tr>\n",
       "      <th>2</th>\n",
       "      <td>25950077</td>\n",
       "      <td>5</td>\n",
       "      <td>10003</td>\n",
       "      <td>2015-09-30 06:49:26</td>\n",
       "      <td>2015-09-30 06:49:35</td>\n",
       "      <td>15632</td>\n",
       "      <td>1</td>\n",
       "      <td>4</td>\n",
       "    </tr>\n",
       "    <tr>\n",
       "      <th>3</th>\n",
       "      <td>25950077</td>\n",
       "      <td>6</td>\n",
       "      <td>57</td>\n",
       "      <td>2015-09-30 06:50:40</td>\n",
       "      <td>2015-09-30 06:50:40</td>\n",
       "      <td>15632</td>\n",
       "      <td>1</td>\n",
       "      <td>4</td>\n",
       "    </tr>\n",
       "    <tr>\n",
       "      <th>4</th>\n",
       "      <td>25950077</td>\n",
       "      <td>8</td>\n",
       "      <td>10590</td>\n",
       "      <td>2015-09-30 06:54:30</td>\n",
       "      <td>2015-09-30 06:54:38</td>\n",
       "      <td>15632</td>\n",
       "      <td>1</td>\n",
       "      <td>4</td>\n",
       "    </tr>\n",
       "  </tbody>\n",
       "</table>\n",
       "</div>"
      ],
      "text/plain": [
       "   trippieceid  seq  stopid              arrival            departure  \\\n",
       "0     25950072    1      64  2015-09-30 09:46:58  2015-09-30 09:46:58   \n",
       "1     25950077    1      64  2015-09-30 06:45:15  2015-09-30 06:45:46   \n",
       "2     25950077    5   10003  2015-09-30 06:49:26  2015-09-30 06:49:35   \n",
       "3     25950077    6      57  2015-09-30 06:50:40  2015-09-30 06:50:40   \n",
       "4     25950077    8   10590  2015-09-30 06:54:30  2015-09-30 06:54:38   \n",
       "\n",
       "   routeid  routename  directionid  \n",
       "0    15632          1            4  \n",
       "1    15632          1            4  \n",
       "2    15632          1            4  \n",
       "3    15632          1            4  \n",
       "4    15632          1            4  "
      ]
     },
     "execution_count": 55,
     "metadata": {},
     "output_type": "execute_result"
    }
   ],
   "source": [
    "stop_events.head()"
   ]
  },
  {
   "cell_type": "code",
   "execution_count": 56,
   "metadata": {},
   "outputs": [
    {
     "data": {
      "text/plain": [
       "1000000"
      ]
     },
     "execution_count": 56,
     "metadata": {},
     "output_type": "execute_result"
    }
   ],
   "source": [
    "len(stop_events)"
   ]
  },
  {
   "cell_type": "markdown",
   "metadata": {},
   "source": [
    "I am not sure if sequence is unordered or if some stops are just not served. Set the index to a unique identifier based on trippieceid and seq."
   ]
  },
  {
   "cell_type": "code",
   "execution_count": 57,
   "metadata": {},
   "outputs": [],
   "source": [
    "stop_events['id'] = stop_events.trippieceid*100 + stop_events.seq"
   ]
  },
  {
   "cell_type": "code",
   "execution_count": 58,
   "metadata": {},
   "outputs": [],
   "source": [
    "stop_events.set_index('id', inplace=True)"
   ]
  },
  {
   "cell_type": "code",
   "execution_count": 59,
   "metadata": {},
   "outputs": [
    {
     "data": {
      "text/html": [
       "<div>\n",
       "<style scoped>\n",
       "    .dataframe tbody tr th:only-of-type {\n",
       "        vertical-align: middle;\n",
       "    }\n",
       "\n",
       "    .dataframe tbody tr th {\n",
       "        vertical-align: top;\n",
       "    }\n",
       "\n",
       "    .dataframe thead th {\n",
       "        text-align: right;\n",
       "    }\n",
       "</style>\n",
       "<table border=\"1\" class=\"dataframe\">\n",
       "  <thead>\n",
       "    <tr style=\"text-align: right;\">\n",
       "      <th></th>\n",
       "      <th>trippieceid</th>\n",
       "      <th>seq</th>\n",
       "      <th>stopid</th>\n",
       "      <th>arrival</th>\n",
       "      <th>departure</th>\n",
       "      <th>routeid</th>\n",
       "      <th>routename</th>\n",
       "      <th>directionid</th>\n",
       "    </tr>\n",
       "    <tr>\n",
       "      <th>id</th>\n",
       "      <th></th>\n",
       "      <th></th>\n",
       "      <th></th>\n",
       "      <th></th>\n",
       "      <th></th>\n",
       "      <th></th>\n",
       "      <th></th>\n",
       "      <th></th>\n",
       "    </tr>\n",
       "  </thead>\n",
       "  <tbody>\n",
       "    <tr>\n",
       "      <th>2595007201</th>\n",
       "      <td>25950072</td>\n",
       "      <td>1</td>\n",
       "      <td>64</td>\n",
       "      <td>2015-09-30 09:46:58</td>\n",
       "      <td>2015-09-30 09:46:58</td>\n",
       "      <td>15632</td>\n",
       "      <td>1</td>\n",
       "      <td>4</td>\n",
       "    </tr>\n",
       "    <tr>\n",
       "      <th>2595007701</th>\n",
       "      <td>25950077</td>\n",
       "      <td>1</td>\n",
       "      <td>64</td>\n",
       "      <td>2015-09-30 06:45:15</td>\n",
       "      <td>2015-09-30 06:45:46</td>\n",
       "      <td>15632</td>\n",
       "      <td>1</td>\n",
       "      <td>4</td>\n",
       "    </tr>\n",
       "    <tr>\n",
       "      <th>2595007705</th>\n",
       "      <td>25950077</td>\n",
       "      <td>5</td>\n",
       "      <td>10003</td>\n",
       "      <td>2015-09-30 06:49:26</td>\n",
       "      <td>2015-09-30 06:49:35</td>\n",
       "      <td>15632</td>\n",
       "      <td>1</td>\n",
       "      <td>4</td>\n",
       "    </tr>\n",
       "    <tr>\n",
       "      <th>2595007706</th>\n",
       "      <td>25950077</td>\n",
       "      <td>6</td>\n",
       "      <td>57</td>\n",
       "      <td>2015-09-30 06:50:40</td>\n",
       "      <td>2015-09-30 06:50:40</td>\n",
       "      <td>15632</td>\n",
       "      <td>1</td>\n",
       "      <td>4</td>\n",
       "    </tr>\n",
       "    <tr>\n",
       "      <th>2595007708</th>\n",
       "      <td>25950077</td>\n",
       "      <td>8</td>\n",
       "      <td>10590</td>\n",
       "      <td>2015-09-30 06:54:30</td>\n",
       "      <td>2015-09-30 06:54:38</td>\n",
       "      <td>15632</td>\n",
       "      <td>1</td>\n",
       "      <td>4</td>\n",
       "    </tr>\n",
       "  </tbody>\n",
       "</table>\n",
       "</div>"
      ],
      "text/plain": [
       "            trippieceid  seq  stopid              arrival  \\\n",
       "id                                                          \n",
       "2595007201     25950072    1      64  2015-09-30 09:46:58   \n",
       "2595007701     25950077    1      64  2015-09-30 06:45:15   \n",
       "2595007705     25950077    5   10003  2015-09-30 06:49:26   \n",
       "2595007706     25950077    6      57  2015-09-30 06:50:40   \n",
       "2595007708     25950077    8   10590  2015-09-30 06:54:30   \n",
       "\n",
       "                      departure  routeid  routename  directionid  \n",
       "id                                                                \n",
       "2595007201  2015-09-30 09:46:58    15632          1            4  \n",
       "2595007701  2015-09-30 06:45:46    15632          1            4  \n",
       "2595007705  2015-09-30 06:49:35    15632          1            4  \n",
       "2595007706  2015-09-30 06:50:40    15632          1            4  \n",
       "2595007708  2015-09-30 06:54:38    15632          1            4  "
      ]
     },
     "execution_count": 59,
     "metadata": {},
     "output_type": "execute_result"
    }
   ],
   "source": [
    "stop_events.head()"
   ]
  },
  {
   "cell_type": "markdown",
   "metadata": {},
   "source": [
    "Ensure that sequence is in order:"
   ]
  },
  {
   "cell_type": "code",
   "execution_count": 60,
   "metadata": {},
   "outputs": [],
   "source": [
    "stop_events.sort_index(inplace=True)"
   ]
  },
  {
   "cell_type": "code",
   "execution_count": 61,
   "metadata": {},
   "outputs": [
    {
     "data": {
      "text/html": [
       "<div>\n",
       "<style scoped>\n",
       "    .dataframe tbody tr th:only-of-type {\n",
       "        vertical-align: middle;\n",
       "    }\n",
       "\n",
       "    .dataframe tbody tr th {\n",
       "        vertical-align: top;\n",
       "    }\n",
       "\n",
       "    .dataframe thead th {\n",
       "        text-align: right;\n",
       "    }\n",
       "</style>\n",
       "<table border=\"1\" class=\"dataframe\">\n",
       "  <thead>\n",
       "    <tr style=\"text-align: right;\">\n",
       "      <th></th>\n",
       "      <th>trippieceid</th>\n",
       "      <th>seq</th>\n",
       "      <th>stopid</th>\n",
       "      <th>arrival</th>\n",
       "      <th>departure</th>\n",
       "      <th>routeid</th>\n",
       "      <th>routename</th>\n",
       "      <th>directionid</th>\n",
       "    </tr>\n",
       "    <tr>\n",
       "      <th>id</th>\n",
       "      <th></th>\n",
       "      <th></th>\n",
       "      <th></th>\n",
       "      <th></th>\n",
       "      <th></th>\n",
       "      <th></th>\n",
       "      <th></th>\n",
       "      <th></th>\n",
       "    </tr>\n",
       "  </thead>\n",
       "  <tbody>\n",
       "    <tr>\n",
       "      <th>2595007201</th>\n",
       "      <td>25950072</td>\n",
       "      <td>1</td>\n",
       "      <td>64</td>\n",
       "      <td>2015-09-30 09:46:58</td>\n",
       "      <td>2015-09-30 09:46:58</td>\n",
       "      <td>15632</td>\n",
       "      <td>1</td>\n",
       "      <td>4</td>\n",
       "    </tr>\n",
       "    <tr>\n",
       "      <th>2595007701</th>\n",
       "      <td>25950077</td>\n",
       "      <td>1</td>\n",
       "      <td>64</td>\n",
       "      <td>2015-09-30 06:45:15</td>\n",
       "      <td>2015-09-30 06:45:46</td>\n",
       "      <td>15632</td>\n",
       "      <td>1</td>\n",
       "      <td>4</td>\n",
       "    </tr>\n",
       "    <tr>\n",
       "      <th>2595007705</th>\n",
       "      <td>25950077</td>\n",
       "      <td>5</td>\n",
       "      <td>10003</td>\n",
       "      <td>2015-09-30 06:49:26</td>\n",
       "      <td>2015-09-30 06:49:35</td>\n",
       "      <td>15632</td>\n",
       "      <td>1</td>\n",
       "      <td>4</td>\n",
       "    </tr>\n",
       "    <tr>\n",
       "      <th>2595007706</th>\n",
       "      <td>25950077</td>\n",
       "      <td>6</td>\n",
       "      <td>57</td>\n",
       "      <td>2015-09-30 06:50:40</td>\n",
       "      <td>2015-09-30 06:50:40</td>\n",
       "      <td>15632</td>\n",
       "      <td>1</td>\n",
       "      <td>4</td>\n",
       "    </tr>\n",
       "    <tr>\n",
       "      <th>2595007708</th>\n",
       "      <td>25950077</td>\n",
       "      <td>8</td>\n",
       "      <td>10590</td>\n",
       "      <td>2015-09-30 06:54:30</td>\n",
       "      <td>2015-09-30 06:54:38</td>\n",
       "      <td>15632</td>\n",
       "      <td>1</td>\n",
       "      <td>4</td>\n",
       "    </tr>\n",
       "  </tbody>\n",
       "</table>\n",
       "</div>"
      ],
      "text/plain": [
       "            trippieceid  seq  stopid              arrival  \\\n",
       "id                                                          \n",
       "2595007201     25950072    1      64  2015-09-30 09:46:58   \n",
       "2595007701     25950077    1      64  2015-09-30 06:45:15   \n",
       "2595007705     25950077    5   10003  2015-09-30 06:49:26   \n",
       "2595007706     25950077    6      57  2015-09-30 06:50:40   \n",
       "2595007708     25950077    8   10590  2015-09-30 06:54:30   \n",
       "\n",
       "                      departure  routeid  routename  directionid  \n",
       "id                                                                \n",
       "2595007201  2015-09-30 09:46:58    15632          1            4  \n",
       "2595007701  2015-09-30 06:45:46    15632          1            4  \n",
       "2595007705  2015-09-30 06:49:35    15632          1            4  \n",
       "2595007706  2015-09-30 06:50:40    15632          1            4  \n",
       "2595007708  2015-09-30 06:54:38    15632          1            4  "
      ]
     },
     "execution_count": 61,
     "metadata": {},
     "output_type": "execute_result"
    }
   ],
   "source": [
    "stop_events.head()"
   ]
  },
  {
   "cell_type": "markdown",
   "metadata": {},
   "source": [
    "It looks like not all stop events are always reported, perhaps because the bus does not always stop at all stop. This is not a problem that would exist for rail."
   ]
  },
  {
   "cell_type": "code",
   "execution_count": 65,
   "metadata": {},
   "outputs": [],
   "source": [
    "# TODO"
   ]
  },
  {
   "cell_type": "markdown",
   "metadata": {},
   "source": [
    "Convert arrival and departure from str to datetime."
   ]
  },
  {
   "cell_type": "code",
   "execution_count": 62,
   "metadata": {},
   "outputs": [],
   "source": [
    "stop_events['arrival'] =  pd.to_datetime(stop_events['arrival'])\n",
    "stop_events['departure'] =  pd.to_datetime(stop_events['departure'])"
   ]
  },
  {
   "cell_type": "markdown",
   "metadata": {},
   "source": []
  },
  {
   "cell_type": "markdown",
   "metadata": {},
   "source": [
    "## Format data"
   ]
  },
  {
   "cell_type": "markdown",
   "metadata": {},
   "source": [
    "We must move from the stop events data format as defined by MBTA, to one where each observation of a travel time (in seconds) is identified by the link identified and a timestamp (for example of when the vehicle first entered the link). \n",
    "\n",
    "The data format is given below in Petersen et al. (2019)."
   ]
  },
  {
   "attachments": {},
   "cell_type": "markdown",
   "metadata": {},
   "source": [
    "<img src=\"input_format.png\" alt=\"Input format for the data\" style=\"width: 450px;\"/>"
   ]
  },
  {
   "cell_type": "code",
   "execution_count": 67,
   "metadata": {},
   "outputs": [],
   "source": [
    "# stop_events['next_arrival'] = stop_events['arrival'].shift(-1)"
   ]
  },
  {
   "cell_type": "code",
   "execution_count": 68,
   "metadata": {},
   "outputs": [],
   "source": [
    "# stop_events.head(15)"
   ]
  },
  {
   "cell_type": "code",
   "execution_count": null,
   "metadata": {},
   "outputs": [],
   "source": []
  },
  {
   "cell_type": "markdown",
   "metadata": {},
   "source": [
    "## Define model"
   ]
  },
  {
   "cell_type": "code",
   "execution_count": 53,
   "metadata": {},
   "outputs": [
    {
     "name": "stdout",
     "output_type": "stream",
     "text": [
      "Model: \"sequential_39\"\n",
      "_________________________________________________________________\n",
      "Layer (type)                 Output Shape              Param #   \n",
      "=================================================================\n",
      "batch_norm_0 (BatchNormaliza (None, 32, 19, 1, 1)      4         \n",
      "_________________________________________________________________\n",
      "convLSTM_1 (ConvLSTM2D)      (None, 32, 19, 1, 64)     83456     \n",
      "_________________________________________________________________\n",
      "convLSTM_2 (ConvLSTM2D)      (None, 19, 1, 64)         164096    \n",
      "_________________________________________________________________\n",
      "flatten_3 (Flatten)          (None, 1216)              0         \n",
      "_________________________________________________________________\n",
      "repeat_vector_1 (RepeatVecto (None, 3, 1216)           0         \n",
      "_________________________________________________________________\n",
      "reshape_3 (Reshape)          (None, 3, 19, 1, 64)      0         \n",
      "_________________________________________________________________\n",
      "convLSTM_3 (ConvLSTM2D)      (None, 3, 19, 1, 64)      164096    \n",
      "_________________________________________________________________\n",
      "convLSTM_4 (ConvLSTM2D)      (None, 3, 19, 1, 64)      164096    \n",
      "_________________________________________________________________\n",
      "dense_21 (Dense)             (None, 3, 19, 1, 1)       65        \n",
      "=================================================================\n",
      "Total params: 575,813\n",
      "Trainable params: 575,811\n",
      "Non-trainable params: 2\n",
      "_________________________________________________________________\n"
     ]
    }
   ],
   "source": [
    "timesteps = 32 #decide how many timesteps can we get from the AVL\n",
    "links = 19 #stations-1\n",
    "predict = 3 #decide how many steps do we want to predict\n",
    "\n",
    "model = Sequential()\n",
    "#normalize input\n",
    "model.add(BatchNormalization(name = 'batch_norm_0', input_shape = (timesteps, links, 1, 1)))\n",
    "\n",
    "#encoder\n",
    "model.add(ConvLSTM2D(name = \"convLSTM_1\", activation = 'relu', filters = 64, kernel_size = (5,1), padding = 'same', return_sequences = True))\n",
    "model.add(ConvLSTM2D(name = \"convLSTM_2\", activation = 'relu', filters = 64, kernel_size = (5,1), padding = 'same', return_sequences = False))\n",
    "\n",
    "#flatten output and re-organize it for the decoder\n",
    "model.add(Flatten())\n",
    "model.add(RepeatVector(predict))\n",
    "model.add(Reshape((predict, links, 1, 64)))\n",
    "\n",
    "#decoder\n",
    "model.add(ConvLSTM2D(name = \"convLSTM_3\", activation = 'relu', filters = 64, kernel_size = (5,1), padding = 'same', return_sequences = True))\n",
    "model.add(ConvLSTM2D(name = \"convLSTM_4\", activation = 'relu', filters = 64, kernel_size = (5,1), padding = 'same', return_sequences = True))\n",
    "model.add(Dense(units = 1, activation = \"relu\"))\n",
    "\n",
    "model.compile(optimizer='adam', loss='mse')\n",
    "\n",
    "model.summary()"
   ]
  },
  {
   "cell_type": "markdown",
   "metadata": {},
   "source": [
    "## Train and test"
   ]
  },
  {
   "cell_type": "code",
   "execution_count": null,
   "metadata": {},
   "outputs": [],
   "source": []
  },
  {
   "cell_type": "markdown",
   "metadata": {},
   "source": [
    "## References"
   ]
  },
  {
   "cell_type": "markdown",
   "metadata": {},
   "source": [
    "1. Agafonov, A., Yumaganov, A., 2019. \"Bus Arrival Time Prediction with LSTM Neural Network\", in: Lu, H., Tang, H., Wang, Z. (Eds.), _Advances in Neural Networks – ISNN 2019._ Springer International Publishing, Cham, pp. 11–18. https://doi.org/10.1007/978-3-030-22796-8_2\n",
    "\n",
    "1. Petersen, N.C., Rodrigues, F., Pereira, F.C., 2019. \"Multi-output Bus Travel Time Prediction with Convolutional LSTM Neural Network\". _Expert Syst. Appl._ 120, 426–435. https://doi.org/10.1016/j.eswa.2018.11.028\n",
    "\n"
   ]
  },
  {
   "cell_type": "code",
   "execution_count": null,
   "metadata": {},
   "outputs": [],
   "source": []
  }
 ],
 "metadata": {
  "kernelspec": {
   "display_name": "Python 3",
   "language": "python",
   "name": "python3"
  },
  "language_info": {
   "codemirror_mode": {
    "name": "ipython",
    "version": 3
   },
   "file_extension": ".py",
   "mimetype": "text/x-python",
   "name": "python",
   "nbconvert_exporter": "python",
   "pygments_lexer": "ipython3",
   "version": "3.7.3"
  }
 },
 "nbformat": 4,
 "nbformat_minor": 2
}
