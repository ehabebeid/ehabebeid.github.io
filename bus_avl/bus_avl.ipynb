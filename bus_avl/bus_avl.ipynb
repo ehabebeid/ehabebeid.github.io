{
 "cells": [
  {
   "cell_type": "markdown",
   "metadata": {},
   "source": [
    "# Bus AVL Project"
   ]
  },
  {
   "cell_type": "markdown",
   "metadata": {},
   "source": [
    "Ehab Ebeid"
   ]
  },
  {
   "cell_type": "markdown",
   "metadata": {},
   "source": [
    "## Setup"
   ]
  },
  {
   "cell_type": "code",
   "execution_count": 1,
   "metadata": {},
   "outputs": [],
   "source": [
    "from __future__ import division, print_function\n",
    "\n",
    "import numpy as np\n"
   ]
  },
  {
   "cell_type": "markdown",
   "metadata": {},
   "source": [
    "## Getting the Data"
   ]
  },
  {
   "cell_type": "markdown",
   "metadata": {},
   "source": [
    "The data is located in a local MS SQL Server database."
   ]
  },
  {
   "cell_type": "code",
   "execution_count": 2,
   "metadata": {},
   "outputs": [
    {
     "name": "stdout",
     "output_type": "stream",
     "text": [
      "<class 'pandas.core.frame.DataFrame'>\n",
      "RangeIndex: 47827 entries, 0 to 47826\n",
      "Data columns (total 15 columns):\n",
      "route_run_id            47827 non-null int64\n",
      "route_pattern           47827 non-null object\n",
      "bus_id                  47827 non-null object\n",
      "svc_date                47827 non-null object\n",
      "trip_start_date_time    47827 non-null datetime64[ns]\n",
      "gps_reading_id          47827 non-null int64\n",
      "lat                     47827 non-null float64\n",
      "lon                     47827 non-null float64\n",
      "heading_deg             47827 non-null int64\n",
      "door_state              47827 non-null object\n",
      "vehicle_state           47827 non-null object\n",
      "odo_feet                47827 non-null int64\n",
      "time_seconds            47827 non-null int64\n",
      "sat_count               47827 non-null int64\n",
      "stop_window_data        1156 non-null object\n",
      "dtypes: datetime64[ns](1), float64(2), int64(6), object(6)\n",
      "memory usage: 5.5+ MB\n"
     ]
    }
   ],
   "source": [
    "import pyodbc \n",
    "import pandas as pd\n",
    "\n",
    "# limit imported data using timestamps of trip start datetime, in the format \"yyyy-mm-dd hh:mi:ss\", local time.\n",
    "FROM_DT = '2018-07-11 06:00:00'\n",
    "TO_DT = '2018-07-11 09:30:00'\n",
    "\n",
    "# connect to database\n",
    "cnxn = pyodbc.connect(Trusted_Connection='yes', \n",
    "                      driver = '{SQL Server}',\n",
    "                      server = 'EHAB\\SQLEXPRESS', \n",
    "                      database = 'raw_nav')\n",
    "\n",
    "# join route_run and gps_reading tables\n",
    "query = \"\"\"select \n",
    "            r.id as route_run_id,\n",
    "            r.route_pattern,\n",
    "            r.bus_id,\n",
    "            r.svc_date,\n",
    "            r.trip_start_date_time,\n",
    "            g.id as gps_reading_id,\n",
    "            g.lat_fixed as lat,\n",
    "            g.lon_fixed as lon,\n",
    "            g.heading_deg,\n",
    "            g.door_state,\n",
    "            g.vehicle_state,\n",
    "            g.odo_feet,\n",
    "            g.time_seconds,\n",
    "            g.sat_count,\n",
    "            g.stop_window_data\n",
    "\n",
    "        from raw_nav.dbo.route_run as r\n",
    "        join raw_nav.dbo.gps_reading as g\n",
    "        on r.id = g.route_run_id\n",
    "        \n",
    "        where trip_start_date_time between '{start}' and '{end}'\n",
    "        ;\n",
    "        \"\"\".format(start=FROM_DT, end=TO_DT)\n",
    "\n",
    "# grab as a pandas dataframe\n",
    "df = pd.read_sql_query(query, cnxn)\n",
    "\n",
    "df.info()"
   ]
  },
  {
   "cell_type": "markdown",
   "metadata": {},
   "source": [
    "## Cleaning the Data"
   ]
  },
  {
   "cell_type": "markdown",
   "metadata": {},
   "source": [
    "### Labelling Bad Runs"
   ]
  },
  {
   "cell_type": "code",
   "execution_count": null,
   "metadata": {},
   "outputs": [],
   "source": []
  }
 ],
 "metadata": {
  "kernelspec": {
   "display_name": "Python 2",
   "language": "python",
   "name": "python2"
  },
  "language_info": {
   "codemirror_mode": {
    "name": "ipython",
    "version": 2
   },
   "file_extension": ".py",
   "mimetype": "text/x-python",
   "name": "python",
   "nbconvert_exporter": "python",
   "pygments_lexer": "ipython2",
   "version": "2.7.15"
  }
 },
 "nbformat": 4,
 "nbformat_minor": 2
}
