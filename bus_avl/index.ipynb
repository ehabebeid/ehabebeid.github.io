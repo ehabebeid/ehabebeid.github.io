{
 "cells": [
  {
   "cell_type": "markdown",
   "metadata": {},
   "source": [
    "# Bus AVL Project"
   ]
  },
  {
   "cell_type": "markdown",
   "metadata": {},
   "source": [
    "Ehab Ebeid"
   ]
  },
  {
   "cell_type": "markdown",
   "metadata": {},
   "source": [
    "## Setup"
   ]
  },
  {
   "cell_type": "code",
   "execution_count": 1,
   "metadata": {},
   "outputs": [],
   "source": [
    "from __future__ import division, print_function\n",
    "\n",
    "import numpy as np, sklearn"
   ]
  },
  {
   "cell_type": "markdown",
   "metadata": {},
   "source": [
    "## Data Exploration"
   ]
  },
  {
   "cell_type": "markdown",
   "metadata": {},
   "source": [
    "The dataset can be very large. First, set the parameters used to specify which data to import."
   ]
  },
  {
   "cell_type": "code",
   "execution_count": 2,
   "metadata": {
    "scrolled": true
   },
   "outputs": [],
   "source": [
    "# minimum and maximum trip start datetime, in the format \"yyyy-mm-dd hh:mi:ss\", local time\n",
    "FROM_DT = '2018-06-13 10:00:00'\n",
    "TO_DT   = '2018-06-13 12:00:00'\n",
    "\n",
    "# a single route pattern, which encodes the bus route and direction\n",
    "ROUTE_PATTERN = '7901'"
   ]
  },
  {
   "cell_type": "markdown",
   "metadata": {},
   "source": [
    "The AVL data is located in a local Microsoft SQL Server database. Connect to the database and import a selection of the data using the parameters above."
   ]
  },
  {
   "cell_type": "code",
   "execution_count": 3,
   "metadata": {},
   "outputs": [],
   "source": [
    "import pyodbc \n",
    "import pandas as pd\n",
    "\n",
    "# connect to local database\n",
    "cnxn = pyodbc.connect(Trusted_Connection='yes', \n",
    "                      driver = '{SQL Server}',\n",
    "                      server = 'EHAB\\SQLEXPRESS', \n",
    "                      database = 'raw_nav')\n",
    "\n",
    "# join the tables route_run and gps_reading, using the filters specified above\n",
    "query = \"\"\"select \n",
    "            r.id as route_run_id,\n",
    "            r.route_pattern,\n",
    "            r.bus_id,\n",
    "            r.svc_date,\n",
    "            r.trip_start_datetime,\n",
    "            g.id as gps_reading_id,\n",
    "            g.lat_fixed as lat,\n",
    "            g.lon_fixed as lon,\n",
    "            g.heading_deg,\n",
    "            g.door_state,\n",
    "            g.vehicle_state,\n",
    "            g.odo_feet,\n",
    "            g.time_seconds,\n",
    "            g.sat_count,\n",
    "            g.stop_window_data,\n",
    "            r.invalid\n",
    "\n",
    "        from raw_nav.dbo.route_run as r\n",
    "        join raw_nav.dbo.gps_reading as g\n",
    "        on r.id = g.route_run_id\n",
    "        \n",
    "        where trip_start_datetime between '{start}' and '{end}'\n",
    "          and route_pattern = '{pattern}'\n",
    "        ;\n",
    "        \"\"\".format(start=FROM_DT, end=TO_DT, pattern=ROUTE_PATTERN)\n",
    "\n",
    "# grab as a pandas dataframe\n",
    "df = pd.read_sql_query(query, cnxn)\n"
   ]
  },
  {
   "cell_type": "markdown",
   "metadata": {},
   "source": [
    "Let's take a look!"
   ]
  },
  {
   "cell_type": "code",
   "execution_count": 4,
   "metadata": {
    "scrolled": false
   },
   "outputs": [
    {
     "name": "stdout",
     "output_type": "stream",
     "text": [
      "<class 'pandas.core.frame.DataFrame'>\n",
      "RangeIndex: 13962 entries, 0 to 13961\n",
      "Data columns (total 16 columns):\n",
      "route_run_id           13962 non-null int64\n",
      "route_pattern          13962 non-null object\n",
      "bus_id                 13962 non-null object\n",
      "svc_date               13962 non-null object\n",
      "trip_start_datetime    13962 non-null datetime64[ns]\n",
      "gps_reading_id         13962 non-null int64\n",
      "lat                    13962 non-null float64\n",
      "lon                    13962 non-null float64\n",
      "heading_deg            13962 non-null int64\n",
      "door_state             13962 non-null object\n",
      "vehicle_state          13962 non-null object\n",
      "odo_feet               13962 non-null int64\n",
      "time_seconds           13962 non-null int64\n",
      "sat_count              13962 non-null int64\n",
      "stop_window_data       348 non-null object\n",
      "invalid                13962 non-null int64\n",
      "dtypes: datetime64[ns](1), float64(2), int64(7), object(6)\n",
      "memory usage: 1.7+ MB\n"
     ]
    }
   ],
   "source": [
    "# summarise the dataframe\n",
    "df.info()"
   ]
  },
  {
   "cell_type": "code",
   "execution_count": 5,
   "metadata": {},
   "outputs": [
    {
     "data": {
      "text/html": [
       "<div>\n",
       "<style scoped>\n",
       "    .dataframe tbody tr th:only-of-type {\n",
       "        vertical-align: middle;\n",
       "    }\n",
       "\n",
       "    .dataframe tbody tr th {\n",
       "        vertical-align: top;\n",
       "    }\n",
       "\n",
       "    .dataframe thead th {\n",
       "        text-align: right;\n",
       "    }\n",
       "</style>\n",
       "<table border=\"1\" class=\"dataframe\">\n",
       "  <thead>\n",
       "    <tr style=\"text-align: right;\">\n",
       "      <th></th>\n",
       "      <th>route_run_id</th>\n",
       "      <th>route_pattern</th>\n",
       "      <th>bus_id</th>\n",
       "      <th>svc_date</th>\n",
       "      <th>trip_start_datetime</th>\n",
       "      <th>gps_reading_id</th>\n",
       "      <th>lat</th>\n",
       "      <th>lon</th>\n",
       "      <th>heading_deg</th>\n",
       "      <th>door_state</th>\n",
       "      <th>vehicle_state</th>\n",
       "      <th>odo_feet</th>\n",
       "      <th>time_seconds</th>\n",
       "      <th>sat_count</th>\n",
       "      <th>stop_window_data</th>\n",
       "      <th>invalid</th>\n",
       "    </tr>\n",
       "  </thead>\n",
       "  <tbody>\n",
       "    <tr>\n",
       "      <th>0</th>\n",
       "      <td>46714</td>\n",
       "      <td>7901</td>\n",
       "      <td>6451</td>\n",
       "      <td>06/13/18</td>\n",
       "      <td>2018-06-13 10:12:30</td>\n",
       "      <td>64088010</td>\n",
       "      <td>38.994025</td>\n",
       "      <td>-77.030545</td>\n",
       "      <td>220</td>\n",
       "      <td>C</td>\n",
       "      <td>M</td>\n",
       "      <td>0</td>\n",
       "      <td>0</td>\n",
       "      <td>6</td>\n",
       "      <td>None</td>\n",
       "      <td>0</td>\n",
       "    </tr>\n",
       "    <tr>\n",
       "      <th>1</th>\n",
       "      <td>46714</td>\n",
       "      <td>7901</td>\n",
       "      <td>6451</td>\n",
       "      <td>06/13/18</td>\n",
       "      <td>2018-06-13 10:12:30</td>\n",
       "      <td>64088011</td>\n",
       "      <td>38.993985</td>\n",
       "      <td>-77.030590</td>\n",
       "      <td>199</td>\n",
       "      <td>C</td>\n",
       "      <td>M</td>\n",
       "      <td>11</td>\n",
       "      <td>1</td>\n",
       "      <td>5</td>\n",
       "      <td>None</td>\n",
       "      <td>0</td>\n",
       "    </tr>\n",
       "    <tr>\n",
       "      <th>2</th>\n",
       "      <td>46714</td>\n",
       "      <td>7901</td>\n",
       "      <td>6451</td>\n",
       "      <td>06/13/18</td>\n",
       "      <td>2018-06-13 10:12:30</td>\n",
       "      <td>64088012</td>\n",
       "      <td>38.993940</td>\n",
       "      <td>-77.030619</td>\n",
       "      <td>178</td>\n",
       "      <td>C</td>\n",
       "      <td>M</td>\n",
       "      <td>29</td>\n",
       "      <td>2</td>\n",
       "      <td>6</td>\n",
       "      <td>None</td>\n",
       "      <td>0</td>\n",
       "    </tr>\n",
       "    <tr>\n",
       "      <th>3</th>\n",
       "      <td>46714</td>\n",
       "      <td>7901</td>\n",
       "      <td>6451</td>\n",
       "      <td>06/13/18</td>\n",
       "      <td>2018-06-13 10:12:30</td>\n",
       "      <td>64088013</td>\n",
       "      <td>38.993940</td>\n",
       "      <td>-77.030619</td>\n",
       "      <td>178</td>\n",
       "      <td>C</td>\n",
       "      <td>M</td>\n",
       "      <td>30</td>\n",
       "      <td>2</td>\n",
       "      <td>6</td>\n",
       "      <td>X-1</td>\n",
       "      <td>0</td>\n",
       "    </tr>\n",
       "    <tr>\n",
       "      <th>4</th>\n",
       "      <td>46714</td>\n",
       "      <td>7901</td>\n",
       "      <td>6451</td>\n",
       "      <td>06/13/18</td>\n",
       "      <td>2018-06-13 10:12:30</td>\n",
       "      <td>64088014</td>\n",
       "      <td>38.993940</td>\n",
       "      <td>-77.030619</td>\n",
       "      <td>178</td>\n",
       "      <td>C</td>\n",
       "      <td>M</td>\n",
       "      <td>31</td>\n",
       "      <td>2</td>\n",
       "      <td>6</td>\n",
       "      <td>E00</td>\n",
       "      <td>0</td>\n",
       "    </tr>\n",
       "  </tbody>\n",
       "</table>\n",
       "</div>"
      ],
      "text/plain": [
       "   route_run_id route_pattern bus_id  svc_date trip_start_datetime  \\\n",
       "0         46714          7901   6451  06/13/18 2018-06-13 10:12:30   \n",
       "1         46714          7901   6451  06/13/18 2018-06-13 10:12:30   \n",
       "2         46714          7901   6451  06/13/18 2018-06-13 10:12:30   \n",
       "3         46714          7901   6451  06/13/18 2018-06-13 10:12:30   \n",
       "4         46714          7901   6451  06/13/18 2018-06-13 10:12:30   \n",
       "\n",
       "   gps_reading_id        lat        lon  heading_deg door_state vehicle_state  \\\n",
       "0        64088010  38.994025 -77.030545          220          C             M   \n",
       "1        64088011  38.993985 -77.030590          199          C             M   \n",
       "2        64088012  38.993940 -77.030619          178          C             M   \n",
       "3        64088013  38.993940 -77.030619          178          C             M   \n",
       "4        64088014  38.993940 -77.030619          178          C             M   \n",
       "\n",
       "   odo_feet  time_seconds  sat_count stop_window_data  invalid  \n",
       "0         0             0          6             None        0  \n",
       "1        11             1          5             None        0  \n",
       "2        29             2          6             None        0  \n",
       "3        30             2          6              X-1        0  \n",
       "4        31             2          6              E00        0  "
      ]
     },
     "execution_count": 5,
     "metadata": {},
     "output_type": "execute_result"
    }
   ],
   "source": [
    "# first five rows\n",
    "df.head()"
   ]
  },
  {
   "cell_type": "markdown",
   "metadata": {},
   "source": [
    "It would be useful to see how many route runs, or trips, are included in the data."
   ]
  },
  {
   "cell_type": "code",
   "execution_count": 6,
   "metadata": {},
   "outputs": [
    {
     "name": "stdout",
     "output_type": "stream",
     "text": [
      "(10,)\n"
     ]
    }
   ],
   "source": [
    "ntrips = df.trip_start_datetime.unique().shape\n",
    "print (ntrips)"
   ]
  },
  {
   "cell_type": "markdown",
   "metadata": {},
   "source": [
    "There are **10 trips** with start times between 10 am and noon on 13 June 2018. \n",
    "\n",
    "It would be useful to plot them out as time-space diagrams. Doing so is easiest with timestamps for each GPS reading, which we are missing. Instead we have the `time_seconds` field, which is the number of seconds elapsed since the start of the trip. Let's create a `timestamp` field."
   ]
  },
  {
   "cell_type": "code",
   "execution_count": 7,
   "metadata": {
    "scrolled": true
   },
   "outputs": [
    {
     "data": {
      "text/html": [
       "<div>\n",
       "<style scoped>\n",
       "    .dataframe tbody tr th:only-of-type {\n",
       "        vertical-align: middle;\n",
       "    }\n",
       "\n",
       "    .dataframe tbody tr th {\n",
       "        vertical-align: top;\n",
       "    }\n",
       "\n",
       "    .dataframe thead th {\n",
       "        text-align: right;\n",
       "    }\n",
       "</style>\n",
       "<table border=\"1\" class=\"dataframe\">\n",
       "  <thead>\n",
       "    <tr style=\"text-align: right;\">\n",
       "      <th></th>\n",
       "      <th>route_run_id</th>\n",
       "      <th>route_pattern</th>\n",
       "      <th>bus_id</th>\n",
       "      <th>svc_date</th>\n",
       "      <th>trip_start_datetime</th>\n",
       "      <th>gps_reading_id</th>\n",
       "      <th>lat</th>\n",
       "      <th>lon</th>\n",
       "      <th>heading_deg</th>\n",
       "      <th>door_state</th>\n",
       "      <th>vehicle_state</th>\n",
       "      <th>odo_feet</th>\n",
       "      <th>time_seconds</th>\n",
       "      <th>sat_count</th>\n",
       "      <th>stop_window_data</th>\n",
       "      <th>invalid</th>\n",
       "      <th>timestamp</th>\n",
       "    </tr>\n",
       "  </thead>\n",
       "  <tbody>\n",
       "    <tr>\n",
       "      <th>0</th>\n",
       "      <td>46714</td>\n",
       "      <td>7901</td>\n",
       "      <td>6451</td>\n",
       "      <td>06/13/18</td>\n",
       "      <td>2018-06-13 10:12:30</td>\n",
       "      <td>64088010</td>\n",
       "      <td>38.994025</td>\n",
       "      <td>-77.030545</td>\n",
       "      <td>220</td>\n",
       "      <td>C</td>\n",
       "      <td>M</td>\n",
       "      <td>0</td>\n",
       "      <td>0</td>\n",
       "      <td>6</td>\n",
       "      <td>None</td>\n",
       "      <td>0</td>\n",
       "      <td>2018-06-13 10:12:30</td>\n",
       "    </tr>\n",
       "    <tr>\n",
       "      <th>1</th>\n",
       "      <td>46714</td>\n",
       "      <td>7901</td>\n",
       "      <td>6451</td>\n",
       "      <td>06/13/18</td>\n",
       "      <td>2018-06-13 10:12:30</td>\n",
       "      <td>64088011</td>\n",
       "      <td>38.993985</td>\n",
       "      <td>-77.030590</td>\n",
       "      <td>199</td>\n",
       "      <td>C</td>\n",
       "      <td>M</td>\n",
       "      <td>11</td>\n",
       "      <td>1</td>\n",
       "      <td>5</td>\n",
       "      <td>None</td>\n",
       "      <td>0</td>\n",
       "      <td>2018-06-13 10:12:31</td>\n",
       "    </tr>\n",
       "    <tr>\n",
       "      <th>2</th>\n",
       "      <td>46714</td>\n",
       "      <td>7901</td>\n",
       "      <td>6451</td>\n",
       "      <td>06/13/18</td>\n",
       "      <td>2018-06-13 10:12:30</td>\n",
       "      <td>64088012</td>\n",
       "      <td>38.993940</td>\n",
       "      <td>-77.030619</td>\n",
       "      <td>178</td>\n",
       "      <td>C</td>\n",
       "      <td>M</td>\n",
       "      <td>29</td>\n",
       "      <td>2</td>\n",
       "      <td>6</td>\n",
       "      <td>None</td>\n",
       "      <td>0</td>\n",
       "      <td>2018-06-13 10:12:32</td>\n",
       "    </tr>\n",
       "    <tr>\n",
       "      <th>3</th>\n",
       "      <td>46714</td>\n",
       "      <td>7901</td>\n",
       "      <td>6451</td>\n",
       "      <td>06/13/18</td>\n",
       "      <td>2018-06-13 10:12:30</td>\n",
       "      <td>64088013</td>\n",
       "      <td>38.993940</td>\n",
       "      <td>-77.030619</td>\n",
       "      <td>178</td>\n",
       "      <td>C</td>\n",
       "      <td>M</td>\n",
       "      <td>30</td>\n",
       "      <td>2</td>\n",
       "      <td>6</td>\n",
       "      <td>X-1</td>\n",
       "      <td>0</td>\n",
       "      <td>2018-06-13 10:12:32</td>\n",
       "    </tr>\n",
       "    <tr>\n",
       "      <th>4</th>\n",
       "      <td>46714</td>\n",
       "      <td>7901</td>\n",
       "      <td>6451</td>\n",
       "      <td>06/13/18</td>\n",
       "      <td>2018-06-13 10:12:30</td>\n",
       "      <td>64088014</td>\n",
       "      <td>38.993940</td>\n",
       "      <td>-77.030619</td>\n",
       "      <td>178</td>\n",
       "      <td>C</td>\n",
       "      <td>M</td>\n",
       "      <td>31</td>\n",
       "      <td>2</td>\n",
       "      <td>6</td>\n",
       "      <td>E00</td>\n",
       "      <td>0</td>\n",
       "      <td>2018-06-13 10:12:32</td>\n",
       "    </tr>\n",
       "  </tbody>\n",
       "</table>\n",
       "</div>"
      ],
      "text/plain": [
       "   route_run_id route_pattern bus_id  svc_date trip_start_datetime  \\\n",
       "0         46714          7901   6451  06/13/18 2018-06-13 10:12:30   \n",
       "1         46714          7901   6451  06/13/18 2018-06-13 10:12:30   \n",
       "2         46714          7901   6451  06/13/18 2018-06-13 10:12:30   \n",
       "3         46714          7901   6451  06/13/18 2018-06-13 10:12:30   \n",
       "4         46714          7901   6451  06/13/18 2018-06-13 10:12:30   \n",
       "\n",
       "   gps_reading_id        lat        lon  heading_deg door_state vehicle_state  \\\n",
       "0        64088010  38.994025 -77.030545          220          C             M   \n",
       "1        64088011  38.993985 -77.030590          199          C             M   \n",
       "2        64088012  38.993940 -77.030619          178          C             M   \n",
       "3        64088013  38.993940 -77.030619          178          C             M   \n",
       "4        64088014  38.993940 -77.030619          178          C             M   \n",
       "\n",
       "   odo_feet  time_seconds  sat_count stop_window_data  invalid  \\\n",
       "0         0             0          6             None        0   \n",
       "1        11             1          5             None        0   \n",
       "2        29             2          6             None        0   \n",
       "3        30             2          6              X-1        0   \n",
       "4        31             2          6              E00        0   \n",
       "\n",
       "            timestamp  \n",
       "0 2018-06-13 10:12:30  \n",
       "1 2018-06-13 10:12:31  \n",
       "2 2018-06-13 10:12:32  \n",
       "3 2018-06-13 10:12:32  \n",
       "4 2018-06-13 10:12:32  "
      ]
     },
     "execution_count": 7,
     "metadata": {},
     "output_type": "execute_result"
    }
   ],
   "source": [
    "df['timestamp'] = df.trip_start_datetime + pd.to_timedelta(df['time_seconds'], unit='s')\n",
    "\n",
    "df.head()"
   ]
  },
  {
   "cell_type": "markdown",
   "metadata": {},
   "source": [
    "That's more like it! Now we can plot the trips."
   ]
  },
  {
   "cell_type": "code",
   "execution_count": 8,
   "metadata": {
    "scrolled": false
   },
   "outputs": [],
   "source": [
    "import matplotlib.pyplot as plt\n",
    "import matplotlib.dates as mdates\n",
    "\n",
    "# time-space diagrams of the trips returned\n",
    "fig, ax = plt.subplots()\n",
    "for name, group in df.groupby('route_run_id'):\n",
    "    group.plot(x='timestamp', y='odo_feet', figsize=(16,8), ax=ax, label=name)\n",
    "\n",
    "ax.xaxis.set_major_formatter(mdates.DateFormatter('%H:%M'))"
   ]
  },
  {
   "cell_type": "markdown",
   "metadata": {},
   "source": [
    "We notice that most trips have approximately the same maximum odometer reading, at around 40,000 feet. This is to be expected since they are all on the same route and direction.\n",
    "\n",
    "**However**, two trips stand out as erroneous: route run 47033 (grey) and 47034 (light green) are shorter than the others. Because route run 47034 starts at around the same time that 47033 ends, it is reasonable to conclude that this is a case of the bus odometer resetting to zero mid-trip. This is by far the most common case of erroneous data."
   ]
  },
  {
   "cell_type": "markdown",
   "metadata": {},
   "source": [
    "<div class='tableauPlaceholder' id='viz1546091739629' style='position: relative'><noscript><a href='#'><img alt=' ' src='https:&#47;&#47;public.tableau.com&#47;static&#47;images&#47;Bu&#47;BusAVL&#47;Dashboard&#47;1_rss.png' style='border: none' /></a></noscript><object class='tableauViz'  style='display:none;'><param name='host_url' value='https%3A%2F%2Fpublic.tableau.com%2F' /> <param name='embed_code_version' value='3' /> <param name='path' value='views&#47;BusAVL&#47;Dashboard?:embed=y&amp;:display_count=y&amp;publish=yes' /> <param name='toolbar' value='yes' /><param name='static_image' value='https:&#47;&#47;public.tableau.com&#47;static&#47;images&#47;Bu&#47;BusAVL&#47;Dashboard&#47;1.png' /> <param name='animate_transition' value='yes' /><param name='display_static_image' value='yes' /><param name='display_spinner' value='yes' /><param name='display_overlay' value='yes' /><param name='display_count' value='yes' /><param name='filter' value='publish=yes' /></object></div>                <script type='text/javascript'>                    var divElement = document.getElementById('viz1546091739629');                    var vizElement = divElement.getElementsByTagName('object')[0];                    vizElement.style.width='800px';vizElement.style.height='527px';                    var scriptElement = document.createElement('script');                    scriptElement.src = 'https://public.tableau.com/javascripts/api/viz_v1.js';                    vizElement.parentNode.insertBefore(scriptElement, vizElement);                </script>"
   ]
  },
  {
   "cell_type": "markdown",
   "metadata": {},
   "source": [
    "## Data Cleaning"
   ]
  },
  {
   "cell_type": "markdown",
   "metadata": {},
   "source": [
    "### Remove trips with odometer resets to zero"
   ]
  },
  {
   "cell_type": "code",
   "execution_count": 9,
   "metadata": {
    "scrolled": false
   },
   "outputs": [
    {
     "name": "stdout",
     "output_type": "stream",
     "text": [
      "trip  max odo\n",
      "46714 40027\n",
      "46828 39681\n",
      "46907 40108\n",
      "46975 39621\n",
      "46991 39778\n",
      "46993 39771\n",
      "47022 39869\n",
      "47033 21710\n",
      "47034 17435\n",
      "47059 39800\n",
      "\n",
      "Median = 39774.5\n"
     ]
    }
   ],
   "source": [
    "# calculate median odometer reading m\n",
    "max_odos = {}\n",
    "print(\"trip  max odo\")\n",
    "for name, group in df.groupby('route_run_id'):\n",
    "    max_odo = group['odo_feet'].max()\n",
    "    print(name, max_odo)\n",
    "    max_odos[name] = max_odo\n",
    "    \n",
    "from numpy import median\n",
    "max_odo_values = list(max_odos.values())\n",
    "m = median(max_odo_values)\n",
    "print()\n",
    "print(\"Median =\", m)\n"
   ]
  },
  {
   "cell_type": "code",
   "execution_count": 10,
   "metadata": {
    "scrolled": false
   },
   "outputs": [],
   "source": [
    "# mark trips with odometer readings of >1.05m or <0.95m\n",
    "\n",
    "for i, row in df.iterrows():\n",
    "    if max_odos[row['route_run_id']] > 1.05*m or max_odos[row['route_run_id']] < 0.95*m:\n",
    "        df.at[i,'invalid'] = 1\n",
    "        \n",
    "df.to_csv(\"bus_avl_cleaned.csv\")"
   ]
  },
  {
   "cell_type": "markdown",
   "metadata": {},
   "source": [
    "### Other data cleaning (?)"
   ]
  },
  {
   "cell_type": "code",
   "execution_count": 11,
   "metadata": {},
   "outputs": [],
   "source": [
    "#TODO"
   ]
  },
  {
   "cell_type": "markdown",
   "metadata": {},
   "source": [
    "## Units of Analysis"
   ]
  },
  {
   "cell_type": "code",
   "execution_count": 13,
   "metadata": {},
   "outputs": [],
   "source": [
    "# Option 1: divide route by stop windows\n",
    "\n",
    "for name, group in df.groupby('route_run_id'):\n",
    "    for i, row in group.iterrows():\n",
    "        pass\n",
    "        #TODO \n",
    "        #link_id = \"\" (?)\n",
    "        #if link_id is blank, set link_id to some uid\n",
    "        #else if row has new stop window entry/exit: increment link_id\n",
    "        \n",
    "        #update link_id column to link_id\n",
    "        \n",
    "        \n",
    "df.to_csv(\"bus_avl_cleaned.csv\")"
   ]
  }
 ],
 "metadata": {
  "kernelspec": {
   "display_name": "Python 3",
   "language": "python",
   "name": "python3"
  },
  "language_info": {
   "codemirror_mode": {
    "name": "ipython",
    "version": 3
   },
   "file_extension": ".py",
   "mimetype": "text/x-python",
   "name": "python",
   "nbconvert_exporter": "python",
   "pygments_lexer": "ipython3",
   "version": "3.7.1"
  }
 },
 "nbformat": 4,
 "nbformat_minor": 2
}
